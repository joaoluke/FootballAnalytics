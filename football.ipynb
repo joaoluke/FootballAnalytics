{
 "cells": [
  {
   "cell_type": "code",
   "execution_count": 2,
   "metadata": {},
   "outputs": [],
   "source": [
    "import pandas as pd"
   ]
  },
  {
   "cell_type": "code",
   "execution_count": 3,
   "metadata": {},
   "outputs": [],
   "source": [
    "football_data = pd.read_csv(\"AmericanFootBall98.csv\")"
   ]
  },
  {
   "cell_type": "code",
   "execution_count": 28,
   "metadata": {},
   "outputs": [
    {
     "data": {
      "text/html": [
       "<div>\n",
       "<style scoped>\n",
       "    .dataframe tbody tr th:only-of-type {\n",
       "        vertical-align: middle;\n",
       "    }\n",
       "\n",
       "    .dataframe tbody tr th {\n",
       "        vertical-align: top;\n",
       "    }\n",
       "\n",
       "    .dataframe thead th {\n",
       "        text-align: right;\n",
       "    }\n",
       "</style>\n",
       "<table border=\"1\" class=\"dataframe\">\n",
       "  <thead>\n",
       "    <tr style=\"text-align: right;\">\n",
       "      <th></th>\n",
       "      <th>team_code</th>\n",
       "      <th>wins</th>\n",
       "      <th>losses</th>\n",
       "      <th>PF</th>\n",
       "      <th>yards</th>\n",
       "      <th>plays</th>\n",
       "      <th>yards/play</th>\n",
       "      <th>TO</th>\n",
       "      <th>Fumbles Lost</th>\n",
       "      <th>1st downs</th>\n",
       "      <th>...</th>\n",
       "      <th>opp pen 1st downs</th>\n",
       "      <th>opp number drives</th>\n",
       "      <th>opp score percentage</th>\n",
       "      <th>opp turnover percentage</th>\n",
       "      <th>opp avg start</th>\n",
       "      <th>opp avg time per drive</th>\n",
       "      <th>opp avg plays per drive</th>\n",
       "      <th>opp avg yards per drive</th>\n",
       "      <th>opp avg points per drive</th>\n",
       "      <th>team</th>\n",
       "    </tr>\n",
       "  </thead>\n",
       "  <tbody>\n",
       "    <tr>\n",
       "      <th>0</th>\n",
       "      <td>nwe2019</td>\n",
       "      <td>12</td>\n",
       "      <td>4</td>\n",
       "      <td>420</td>\n",
       "      <td>5664</td>\n",
       "      <td>1095</td>\n",
       "      <td>5.2</td>\n",
       "      <td>15</td>\n",
       "      <td>6</td>\n",
       "      <td>338</td>\n",
       "      <td>...</td>\n",
       "      <td>39</td>\n",
       "      <td>191</td>\n",
       "      <td>19.4</td>\n",
       "      <td>17.3</td>\n",
       "      <td>Own 24.8</td>\n",
       "      <td>2:20</td>\n",
       "      <td>5.0</td>\n",
       "      <td>22.8</td>\n",
       "      <td>1.00</td>\n",
       "      <td>nwe</td>\n",
       "    </tr>\n",
       "    <tr>\n",
       "      <th>1</th>\n",
       "      <td>buf2019</td>\n",
       "      <td>10</td>\n",
       "      <td>6</td>\n",
       "      <td>314</td>\n",
       "      <td>5283</td>\n",
       "      <td>1018</td>\n",
       "      <td>5.2</td>\n",
       "      <td>19</td>\n",
       "      <td>7</td>\n",
       "      <td>314</td>\n",
       "      <td>...</td>\n",
       "      <td>33</td>\n",
       "      <td>178</td>\n",
       "      <td>23.6</td>\n",
       "      <td>12.4</td>\n",
       "      <td>Own 27.7</td>\n",
       "      <td>2:39</td>\n",
       "      <td>5.6</td>\n",
       "      <td>26.2</td>\n",
       "      <td>1.29</td>\n",
       "      <td>buf</td>\n",
       "    </tr>\n",
       "  </tbody>\n",
       "</table>\n",
       "<p>2 rows × 64 columns</p>\n",
       "</div>"
      ],
      "text/plain": [
       "  team_code  wins  losses   PF  yards  plays  yards/play  TO  Fumbles Lost  \\\n",
       "0   nwe2019    12       4  420   5664   1095         5.2  15             6   \n",
       "1   buf2019    10       6  314   5283   1018         5.2  19             7   \n",
       "\n",
       "   1st downs  ...  opp pen 1st downs  opp number drives  opp score percentage  \\\n",
       "0        338  ...                 39                191                  19.4   \n",
       "1        314  ...                 33                178                  23.6   \n",
       "\n",
       "   opp turnover percentage  opp avg start  opp avg time per drive  \\\n",
       "0                     17.3       Own 24.8                    2:20   \n",
       "1                     12.4       Own 27.7                    2:39   \n",
       "\n",
       "   opp avg plays per drive  opp avg yards per drive  opp avg points per drive  \\\n",
       "0                      5.0                     22.8                      1.00   \n",
       "1                      5.6                     26.2                      1.29   \n",
       "\n",
       "   team  \n",
       "0   nwe  \n",
       "1   buf  \n",
       "\n",
       "[2 rows x 64 columns]"
      ]
     },
     "metadata": {},
     "output_type": "display_data"
    }
   ],
   "source": [
    "display(football_data.head(2))"
   ]
  },
  {
   "cell_type": "markdown",
   "metadata": {},
   "source": []
  },
  {
   "cell_type": "markdown",
   "metadata": {},
   "source": [
    "Qual time teve o melhor desempenho médio em termos de vitórias durante o período de 1998 a 2019? E qual teve o pior desempenho?"
   ]
  },
  {
   "cell_type": "code",
   "execution_count": 26,
   "metadata": {},
   "outputs": [
    {
     "name": "stdout",
     "output_type": "stream",
     "text": [
      "O time com pior desempenho de 1998 a 2019 foi: cle, seu desempenho de vitórias e derrotas foi de: 4.81\n",
      "O time com melhor desempenho de 1998 a 2019 foi: nwe, seu desempenho de vitórias e derrotas foi de: 11.67\n"
     ]
    }
   ],
   "source": [
    "football_data['team'] = football_data['team_code'].str[:-4]\n",
    "average_wins = football_data.groupby('team')['wins'].mean()\n",
    "average_wins_sorted = average_wins.sort_values()\n",
    "\n",
    "print(f\"O time com pior desempenho de 1998 a 2019 foi: {average_wins_sorted.index[0]}, seu desempenho de vitórias e derrotas foi de: {round(average_wins_sorted.iloc[0], 2)}\")\n",
    "print(f\"O time com melhor desempenho de 1998 a 2019 foi: {average_wins_sorted.index[-1]}, seu desempenho de vitórias e derrotas foi de: {round(average_wins_sorted.iloc[-1], 2)}\")"
   ]
  },
  {
   "cell_type": "markdown",
   "metadata": {},
   "source": [
    "Existe uma correlação entre o número de jardas por jogo (yards/play) e o número de vitórias?"
   ]
  },
  {
   "cell_type": "code",
   "execution_count": 1,
   "metadata": {},
   "outputs": [
    {
     "ename": "NameError",
     "evalue": "name 'football_data' is not defined",
     "output_type": "error",
     "traceback": [
      "\u001b[1;31m---------------------------------------------------------------------------\u001b[0m",
      "\u001b[1;31mNameError\u001b[0m                                 Traceback (most recent call last)",
      "Cell \u001b[1;32mIn[1], line 4\u001b[0m\n\u001b[0;32m      1\u001b[0m \u001b[39mimport\u001b[39;00m \u001b[39mmatplotlib\u001b[39;00m\u001b[39m.\u001b[39;00m\u001b[39mpyplot\u001b[39;00m \u001b[39mas\u001b[39;00m \u001b[39mplt\u001b[39;00m\n\u001b[0;32m      3\u001b[0m \u001b[39m# Crie um gráfico de dispersão\u001b[39;00m\n\u001b[1;32m----> 4\u001b[0m plt\u001b[39m.\u001b[39mscatter(football_data[\u001b[39m'\u001b[39m\u001b[39myards/play\u001b[39m\u001b[39m'\u001b[39m], football_data[\u001b[39m'\u001b[39m\u001b[39mwins\u001b[39m\u001b[39m'\u001b[39m])\n\u001b[0;32m      5\u001b[0m plt\u001b[39m.\u001b[39mxlabel(\u001b[39m'\u001b[39m\u001b[39mJardas por Jogo (yards/play)\u001b[39m\u001b[39m'\u001b[39m)\n\u001b[0;32m      6\u001b[0m plt\u001b[39m.\u001b[39mylabel(\u001b[39m'\u001b[39m\u001b[39mNúmero de Vitórias\u001b[39m\u001b[39m'\u001b[39m)\n",
      "\u001b[1;31mNameError\u001b[0m: name 'football_data' is not defined"
     ]
    }
   ],
   "source": [
    "import matplotlib.pyplot as plt\n",
    "\n",
    "# Crie um gráfico de dispersão\n",
    "plt.scatter(football_data['yards/play'], football_data['wins'])\n",
    "plt.xlabel('Jardas por Jogo (yards/play)')\n",
    "plt.ylabel('Número de Vitórias')\n",
    "plt.title('Relação entre Jardas por Jogo e Vitórias')\n",
    "plt.show()\n"
   ]
  },
  {
   "cell_type": "markdown",
   "metadata": {},
   "source": [
    "\n",
    "Quais são os times com a maior média de jardas por tentativa de passe (net yards per pass att) em 2019?\n",
    "\n",
    "Como a taxa de conversão de terceiras descidas (1st downs/3rd down attempts) se correlaciona com o número de vitórias?\n",
    "\n",
    "Houve uma mudança significativa na média de pontos por jogo (avg points per drive) ao longo dos anos?\n",
    "\n",
    "Qual a relação entre o número de turnovers (TO) e a taxa de vitória?\n",
    "\n",
    "Quais times tiveram a melhor média de jardas por jogo (avg yards per drive) em 2019?\n",
    "\n",
    "Existe uma correlação entre o número de penalidades (penalties) cometidas e o número de vitórias?\n",
    "\n",
    "Como a média de tempo por unidade de drive (avg time per drive) varia entre times vitoriosos e times perdedores?\n",
    "\n",
    "Qual a média de jardas por tentativa de passe (pass yards/ pass attempts) para todos os times em um determinado ano, por exemplo, 2010?\n",
    "\n",
    "Quais times têm a melhor média de turnovers forçados (opp TO) em 2019?\n",
    "\n",
    "Existe uma correlação entre a média de pontos marcados por unidade de drive (avg points per drive) e o número de vitórias?\n",
    "\n",
    "Como a média de jardas por tentativa de corrida (rush yards per att) evoluiu ao longo dos anos?\n",
    "\n",
    "Qual é a média de jardas totais (yards) para times que venceram a Super Bowl em um dado ano?\n",
    "\n",
    "Quais são os times que tiveram a maior taxa de virada de jogo (turnover percentage) em 2019?"
   ]
  },
  {
   "cell_type": "markdown",
   "metadata": {},
   "source": []
  }
 ],
 "metadata": {
  "kernelspec": {
   "display_name": "Python 3",
   "language": "python",
   "name": "python3"
  },
  "language_info": {
   "codemirror_mode": {
    "name": "ipython",
    "version": 3
   },
   "file_extension": ".py",
   "mimetype": "text/x-python",
   "name": "python",
   "nbconvert_exporter": "python",
   "pygments_lexer": "ipython3",
   "version": "3.11.5"
  },
  "orig_nbformat": 4
 },
 "nbformat": 4,
 "nbformat_minor": 2
}
